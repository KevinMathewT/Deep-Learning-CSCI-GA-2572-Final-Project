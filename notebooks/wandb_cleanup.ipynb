{
 "cells": [
  {
   "cell_type": "code",
   "execution_count": 1,
   "metadata": {},
   "outputs": [
    {
     "name": "stderr",
     "output_type": "stream",
     "text": [
      "\u001b[34m\u001b[1mwandb\u001b[0m: Using wandb-core as the SDK backend.  Please refer to https://wandb.me/wandb-core for more information.\n",
      "\u001b[34m\u001b[1mwandb\u001b[0m: Currently logged in as: \u001b[33mkevinmathew\u001b[0m. Use \u001b[1m`wandb login --relogin`\u001b[0m to force relogin\n"
     ]
    },
    {
     "name": "stdout",
     "output_type": "stream",
     "text": [
      "Deleting run: clear-dust-48 (ID: 9vcr66ly)\n",
      "Deleting run: wandering-firefly-47 (ID: m329ui3y)\n",
      "Deleting run: pleasant-snowball-46 (ID: v3k66cm7)\n",
      "Deleting run: lucky-armadillo-45 (ID: qvhj90yz)\n",
      "Deleting run: morning-elevator-44 (ID: wlnfzw6y)\n",
      "Deleting run: stellar-terrain-43 (ID: hgthx9qo)\n",
      "Deleting run: morning-leaf-42 (ID: ugfqbnj0)\n",
      "Deleting run: fallen-lion-41 (ID: yl6a6uuc)\n",
      "Deleting run: icy-blaze-40 (ID: 9wstntou)\n",
      "Deleting run: charmed-field-39 (ID: 4h8r7l39)\n",
      "Deleting run: lively-water-38 (ID: th0qlajy)\n",
      "Deleting run: effortless-sun-37 (ID: z1c4h5q5)\n",
      "Deleting run: divine-firefly-36 (ID: q67q57ks)\n",
      "Deleting run: tough-field-35 (ID: 2uasry6z)\n",
      "Deleting run: skilled-music-34 (ID: yg36tr09)\n",
      "Deleting run: jumping-breeze-33 (ID: 68l57nbm)\n",
      "Deleting run: gentle-waterfall-32 (ID: xis5al8q)\n",
      "Deleting run: eager-pond-31 (ID: rv0b476b)\n",
      "Deleting run: laced-pine-30 (ID: m9d171b2)\n",
      "Deleting run: summer-morning-29 (ID: aunauji5)\n",
      "Deleting run: curious-morning-28 (ID: li4fedna)\n",
      "Deleting run: likely-darkness-27 (ID: bd5b7q9k)\n",
      "Deleting run: sunny-gorge-26 (ID: 417e56yw)\n",
      "Deleting run: rare-snow-25 (ID: vivwdk5s)\n",
      "Deleting run: summer-sea-24 (ID: c2u98bz5)\n",
      "Deleting run: smart-glitter-23 (ID: jdzf2wkp)\n",
      "Deleting run: vibrant-brook-22 (ID: mvlxkn3h)\n",
      "Deleting run: happy-resonance-21 (ID: tangin3x)\n",
      "Deleting run: gentle-frost-20 (ID: 6qsbnesc)\n",
      "Deleting run: rich-waterfall-19 (ID: 9wjvefvo)\n",
      "Deleting run: honest-dawn-18 (ID: hx3837gg)\n",
      "Deleting run: iconic-grass-17 (ID: dsrowwoa)\n",
      "Deleting run: fluent-dew-16 (ID: jixj9obh)\n",
      "Deleting run: legendary-firefly-15 (ID: kz9mp4lj)\n",
      "Deleting run: efficient-sound-14 (ID: em0cwf6c)\n",
      "Deleting run: sweet-mountain-13 (ID: nomltyhy)\n",
      "Deleting run: avid-butterfly-12 (ID: j49sovjl)\n",
      "Deleting run: avid-donkey-11 (ID: h5htwyg5)\n",
      "Deleting run: floral-cherry-10 (ID: 3no7dlhl)\n",
      "Deleting run: sandy-frog-9 (ID: 2a7qiyko)\n",
      "Deleting run: genial-mountain-8 (ID: 04qnea6c)\n",
      "Deleting run: rose-snow-7 (ID: 0btan5qz)\n",
      "Deleting run: rich-water-6 (ID: 4qzy8np0)\n",
      "Deleting run: vibrant-gorge-5 (ID: zldyfi5j)\n",
      "Deleting run: vibrant-smoke-4 (ID: qzw09db7)\n",
      "Deleting run: devoted-energy-3 (ID: ifostd7h)\n",
      "Deleting run: clear-bush-2 (ID: k14ypbg4)\n",
      "Deleting run: playful-resonance-1 (ID: udn2p2it)\n"
     ]
    }
   ],
   "source": [
    "import wandb\n",
    "\n",
    "# Set your project and entity\n",
    "project_name = \"DL Final Project\"  # Project name\n",
    "entity_name = \"kevinmathew\"        # Entity name\n",
    "\n",
    "# Authenticate wandb\n",
    "wandb.login()\n",
    "\n",
    "# Fetch all runs in the project\n",
    "api = wandb.Api()\n",
    "runs = api.runs(f\"{entity_name}/{project_name}\")\n",
    "\n",
    "# Sort runs by creation time\n",
    "sorted_runs = sorted(runs, key=lambda run: run.created_at, reverse=True)\n",
    "\n",
    "# Retain the latest run and delete others\n",
    "if len(sorted_runs) > 1:\n",
    "    for run in sorted_runs[1:]:\n",
    "        print(f\"Deleting run: {run.name} (ID: {run.id})\")\n",
    "        run.delete()  # Deletes the run\n",
    "else:\n",
    "    print(\"Only one run exists, no need to delete others.\")\n"
   ]
  },
  {
   "cell_type": "code",
   "execution_count": null,
   "metadata": {},
   "outputs": [],
   "source": []
  }
 ],
 "metadata": {
  "kernelspec": {
   "display_name": "Python 3 (ipykernel)",
   "language": "python",
   "name": "python3"
  },
  "language_info": {
   "codemirror_mode": {
    "name": "ipython",
    "version": 3
   },
   "file_extension": ".py",
   "mimetype": "text/x-python",
   "name": "python",
   "nbconvert_exporter": "python",
   "pygments_lexer": "ipython3",
   "version": "3.9.18"
  }
 },
 "nbformat": 4,
 "nbformat_minor": 2
}
